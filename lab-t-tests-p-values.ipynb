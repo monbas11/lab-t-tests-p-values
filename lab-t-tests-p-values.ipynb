{
 "cells": [
  {
   "cell_type": "markdown",
   "id": "ecbd9598",
   "metadata": {},
   "source": [
    "### Instructions\n",
    "\n",
    "1 - We will have another simple example on two sample t test (pooled- when the variances are equal). But this time this is a one sided t-test\n",
    "\n",
    "In a packing plant, a machine packs cartons with jars. It is supposed that a new machine will pack faster on the average than the machine currently used. To test that hypothesis, the times it takes each machine to pack ten cartons are recorded. The results, in seconds, are shown in the tables in the file files_for_lab/machine.txt. Assume that there is sufficient evidence to conduct the t test, does the data provide sufficient evidence to show if one machine is better than the other"
   ]
  },
  {
   "cell_type": "code",
   "execution_count": 8,
   "id": "355560a4",
   "metadata": {},
   "outputs": [],
   "source": [
    "import numpy as np\n",
    "import pandas as pd\n",
    "import statistics"
   ]
  },
  {
   "cell_type": "markdown",
   "id": "dc5441af",
   "metadata": {},
   "source": [
    "New machine:\t42.1     41\t        41.3\t    41.8\t    42.4\t    42.8\t     43.2\t     42.3\t      41.8\t       42.7\n",
    "\n",
    "Old machine:     42.7   43.6         43.8        43.3        42.5        43.5         43.1        41.7          44          44.1"
   ]
  },
  {
   "cell_type": "code",
   "execution_count": 15,
   "id": "4aa6a10d",
   "metadata": {},
   "outputs": [
    {
     "name": "stdout",
     "output_type": "stream",
     "text": [
      "Old machine mean:  43.230000000000004\n",
      "New machine standard deviation is:  0.7498888806572157\n",
      "Sample =  10\n",
      "New machine mean:  42.14\n",
      "New machine standard deviation is:  0.6834552736727638\n",
      "Significancy levevel:  0.05\n"
     ]
    }
   ],
   "source": [
    "old_machine = [42.7, 43.6, 43.8, 43.3, 42.5, 43.5, 43.1, 41.7, 44, 44.1]\n",
    "old_machine_mean = sum(old_machine) / len(old_machine)\n",
    "print(\"Old machine mean: \", old_machine_mean)\n",
    "\n",
    "old_machine_std = statistics.stdev(old_machine)\n",
    "print(\"New machine standard deviation is: \", old_machine_std)\n",
    "\n",
    "\n",
    "sample = 10\n",
    "print(\"Sample = \", sample)\n",
    "\n",
    "\n",
    "new_machine = [42.1, 41, 41.3, 41.8, 42.4, 42.8, 43.2, 42.3, 41.8, 42.7]\n",
    "new_machine_mean = sum(new_machine) / len(new_machine)\n",
    "print(\"New machine mean: \", new_machine_mean)\n",
    "\n",
    "new_machine_std = statistics.stdev(new_machine)\n",
    "print(\"New machine standard deviation is: \", new_machine_std)\n",
    "\n",
    "\n",
    "\n",
    "a = 0.05\n",
    "print(\"Significancy levevel: \", a)"
   ]
  },
  {
   "cell_type": "code",
   "execution_count": 14,
   "id": "bb8a4ebb",
   "metadata": {},
   "outputs": [
    {
     "name": "stdout",
     "output_type": "stream",
     "text": [
      "\n",
      "STEP 1- Define the null hypothesis (H0): μ = 43.230000000000004\n",
      "STEP 2- Define the alternate hypotesis: Ha): μ != 43.230000000000004\n",
      "STEP 3- Define significancy level: a = 0.05\n",
      "STEP 4- Do the T staticstics with 2 tails \n",
      "STEP 5- Create the critical region\n",
      "STEP 6- Make a decision\n",
      "\n"
     ]
    }
   ],
   "source": [
    "print(\"\"\"\n",
    "STEP 1- Define the null hypothesis (H0): μ = 43.230000000000004\n",
    "STEP 2- Define the alternate hypotesis: Ha): μ != 43.230000000000004\n",
    "STEP 3- Define significancy level: a = 0.05\n",
    "STEP 4- Do the T staticstics with 2 tails \n",
    "STEP 5- Create the critical region\n",
    "STEP 6- Make a decision\n",
    "\"\"\")"
   ]
  },
  {
   "cell_type": "code",
   "execution_count": 19,
   "id": "b0663c4b",
   "metadata": {},
   "outputs": [],
   "source": [
    "from scipy.stats import ttest_ind, norm\n",
    "\n",
    "old_machine = norm.rvs(loc=new_machine_mean, scale=old_machine_std, size=sample)\n",
    "new_machine = norm.rvs(loc=old_machine_mean, scale=new_machine_std, size=sample)"
   ]
  },
  {
   "cell_type": "code",
   "execution_count": 20,
   "id": "2ff374a0",
   "metadata": {},
   "outputs": [
    {
     "data": {
      "text/plain": [
       "array([41.78859516, 42.53607738, 42.74846422, 42.22149971, 41.07110672,\n",
       "       43.40908578, 41.71430811, 42.04165814, 42.1136303 , 41.71684878])"
      ]
     },
     "execution_count": 20,
     "metadata": {},
     "output_type": "execute_result"
    }
   ],
   "source": [
    "old_machine"
   ]
  },
  {
   "cell_type": "code",
   "execution_count": 21,
   "id": "662e6ea6",
   "metadata": {},
   "outputs": [
    {
     "data": {
      "text/plain": [
       "array([43.25045745, 43.56034756, 42.72915059, 43.32957344, 44.6946241 ,\n",
       "       43.82571418, 43.78626064, 43.60522093, 42.36484485, 42.8153838 ])"
      ]
     },
     "execution_count": 21,
     "metadata": {},
     "output_type": "execute_result"
    }
   ],
   "source": [
    "new_machine"
   ]
  },
  {
   "cell_type": "code",
   "execution_count": 23,
   "id": "340927a3",
   "metadata": {},
   "outputs": [
    {
     "data": {
      "text/plain": [
       "TtestResult(statistic=-4.2950928765578125, pvalue=0.0004358130210311272, df=18.0)"
      ]
     },
     "execution_count": 23,
     "metadata": {},
     "output_type": "execute_result"
    }
   ],
   "source": [
    "ttest_ind(old_machine, new_machine)"
   ]
  },
  {
   "cell_type": "code",
   "execution_count": 25,
   "id": "ac15364d",
   "metadata": {},
   "outputs": [
    {
     "name": "stdout",
     "output_type": "stream",
     "text": [
      " Our p value is lower than the significancy level so we can reject the null hypotesis. There is enough information to prove that there is a speed difference between both machines\n"
     ]
    }
   ],
   "source": [
    "print(\" Our p value is lower than the significancy level so we can reject the null hypotesis. There is enough information to prove that there is a speed difference between both machines\")"
   ]
  },
  {
   "cell_type": "code",
   "execution_count": null,
   "id": "9e6a206a",
   "metadata": {},
   "outputs": [],
   "source": []
  }
 ],
 "metadata": {
  "kernelspec": {
   "display_name": "Python 3 (ipykernel)",
   "language": "python",
   "name": "python3"
  },
  "language_info": {
   "codemirror_mode": {
    "name": "ipython",
    "version": 3
   },
   "file_extension": ".py",
   "mimetype": "text/x-python",
   "name": "python",
   "nbconvert_exporter": "python",
   "pygments_lexer": "ipython3",
   "version": "3.11.5"
  }
 },
 "nbformat": 4,
 "nbformat_minor": 5
}
